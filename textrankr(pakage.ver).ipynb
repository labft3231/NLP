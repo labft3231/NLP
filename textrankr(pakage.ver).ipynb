{
 "cells": [
  {
   "cell_type": "code",
   "execution_count": 8,
   "metadata": {},
   "outputs": [],
   "source": [
    "from textrankr import TextRank"
   ]
  },
  {
   "cell_type": "code",
   "execution_count": 9,
   "metadata": {},
   "outputs": [
    {
     "name": "stdout",
     "output_type": "stream",
     "text": [
      "별 헤는 밤.\n",
      "별 하나에 쓸쓸함과.\n",
      "내 이름자 묻힌 언덕 위에도.\n"
     ]
    }
   ],
   "source": [
    "textrank = TextRank('''별 헤는 밤\n",
    "\n",
    "계절이 지나가는 하늘에는\n",
    "가을로 가득 차 있습니다.\n",
    "\n",
    "나는 아무 걱정도 없이\n",
    "가을 속의 별들을 다 헤일 듯합니다.\n",
    "\n",
    "가슴 속에 하나 둘 새겨지는 별을\n",
    "이제 다 못 헤는 것은\n",
    "쉬이 아침이 오는 까닭이요,\n",
    "내일 밤이 남은 까닭이요,\n",
    "아직 나의 청춘이 다하지 않은 까닭입니다.\n",
    "\n",
    "별 하나에 추억과\n",
    "별 하나에 사랑과\n",
    "별 하나에 쓸쓸함과\n",
    "별 하나에 동경과\n",
    "별 하나에 시와\n",
    "별 하나에 어머니, 어머니,\n",
    "\n",
    "어머님, 나는 별 하나에 아름다운 말 한마디씩 불러봅니다. 소학교때 책상을 같이 했던 아이들의 이름과, 패, 경, 옥 이런 이국소녀들의 이름과 벌써 애기 어머니 된 계집애들의 이름과, 가난한 이웃사람들의 이름과, 비둘기, 강아지, 토끼, 노새, 노루, ｢프란시스․쟘｣ ｢라이너․마리아․릴케｣ 이런 시인의 이름을 불러봅니다.\n",
    "\n",
    "이네들은 너무나 멀리 있습니다.\n",
    "별이 아슬히 멀 듯이,\n",
    "\n",
    "어머님,\n",
    "그리고 당신은 멀리 북간도에 계십니다.\n",
    "\n",
    "나는 무엇인지 그리워\n",
    "이 많은 별빛이 나린 언덕 위에\n",
    "내 이름자를 써보고,\n",
    "흙으로 덮어 버리었습니다.\n",
    "\n",
    "딴은 밤을 새워 우는 벌레는\n",
    "부끄러운 이름을 슬퍼하는 까닭입니다.\n",
    "\n",
    "그러나 겨울이 지나고 나의 별에도 봄이 오면\n",
    "무덤 위에 파란 잔디가 피어나듯이\n",
    "내 이름자 묻힌 언덕 위에도\n",
    "자랑처럼 풀이 무성할 게외다.\n",
    "''')\n",
    "# print(textrank.summarize())  # gives you some text\n",
    "print(textrank.summarize(3))  # up to 3 sentences, returned as list"
   ]
  },
  {
   "cell_type": "code",
   "execution_count": null,
   "metadata": {},
   "outputs": [],
   "source": []
  }
 ],
 "metadata": {
  "kernelspec": {
   "display_name": ".venv",
   "language": "python",
   "name": ".venv"
  },
  "language_info": {
   "codemirror_mode": {
    "name": "ipython",
    "version": 3
   },
   "file_extension": ".py",
   "mimetype": "text/x-python",
   "name": "python",
   "nbconvert_exporter": "python",
   "pygments_lexer": "ipython3",
   "version": "3.6.5"
  }
 },
 "nbformat": 4,
 "nbformat_minor": 4
}
